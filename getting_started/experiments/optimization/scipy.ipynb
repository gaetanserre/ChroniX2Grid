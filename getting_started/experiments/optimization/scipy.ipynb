{
 "cells": [
  {
   "cell_type": "code",
   "execution_count": null,
   "metadata": {},
   "outputs": [],
   "source": [
    "import numpy as np\n",
    "import os\n",
    "import pandas as pd\n",
    "from scipy.optimize import minimize, Bounds"
   ]
  },
  {
   "cell_type": "markdown",
   "metadata": {},
   "source": [
    "We load our example grid and extract some useful data."
   ]
  },
  {
   "cell_type": "code",
   "execution_count": null,
   "metadata": {},
   "outputs": [],
   "source": [
    "input_path = os.path.join(\"..\", \"..\", \"example\", \"input\", \"generation\", \"case118_l2rpn_wcci\")\n",
    "df = pd.read_csv(os.path.join(input_path, \"prods_charac.csv\"))\n",
    "\n",
    "\n",
    "n = df.shape[0]\n",
    "avg_pmaxs = df.groupby([\"type\"])[\"Pmax\"].mean()\n",
    "types = avg_pmaxs.index.to_numpy()\n",
    "avg_pmaxs = avg_pmaxs.to_numpy()\n",
    "capacity_factor = np.array([30, 95, 15, np.nan, 25])\n",
    "average_load = 2800\n",
    "target_energy_mix = np.array([9., 36., 17., 2., 36.])\n",
    "target_pmax = 10000"
   ]
  },
  {
   "cell_type": "code",
   "execution_count": null,
   "metadata": {},
   "outputs": [],
   "source": [
    "def get_nb_pp_by_type(t):\n",
    "  return df[df[\"type\"] == t].shape[0]"
   ]
  },
  {
   "cell_type": "code",
   "execution_count": null,
   "metadata": {},
   "outputs": [],
   "source": [
    "nb_type = types.shape[0]\n",
    "\n",
    "x = np.ones(2*nb_type+1) * 1000\n",
    "\n",
    "for i in range(nb_type):\n",
    "  x[nb_type+1+i] = get_nb_pp_by_type(types[i])"
   ]
  },
  {
   "cell_type": "code",
   "execution_count": null,
   "metadata": {},
   "outputs": [],
   "source": [
    "def get_pmaxs(x):\n",
    "  nb_pp = np.round(x)\n",
    "  pmaxs = np.zeros(types.shape)\n",
    "  for i in range(types.shape[0]):\n",
    "    pmaxs[i] = avg_pmaxs[i] * nb_pp[i]\n",
    "  return pmaxs\n",
    "\n",
    "def get_apriori_energy_mix(pmaxs, capacity_factor, average_load):\n",
    "  apriori_energy_mix = capacity_factor * pmaxs / average_load\n",
    "  total = np.nansum(apriori_energy_mix)\n",
    "  if total > 100:\n",
    "    #print(\"WARNING: apriori energy mix w/o thermal exceeds average load!\")\n",
    "    apriori_energy_mix[0] -= (total - 100)\n",
    "    apriori_energy_mix[3] = 0\n",
    "  else:\n",
    "    apriori_energy_mix[3] = 100 - total\n",
    "  return apriori_energy_mix\n",
    "\n",
    "def split_slack_vars(x):\n",
    "  n = types.shape[0] + 1\n",
    "  return x[:n], x[n:]"
   ]
  },
  {
   "cell_type": "code",
   "execution_count": null,
   "metadata": {},
   "outputs": [],
   "source": [
    "capacity_factor"
   ]
  },
  {
   "cell_type": "code",
   "execution_count": null,
   "metadata": {},
   "outputs": [],
   "source": [
    "x = np.zeros(n)\n",
    "x[0] = 62-5\n",
    "x[1] = 5\n",
    "get_apriori_energy_mix(get_pmaxs(x), capacity_factor, average_load)"
   ]
  },
  {
   "cell_type": "code",
   "execution_count": null,
   "metadata": {},
   "outputs": [],
   "source": [
    "get_pmaxs(x)"
   ]
  },
  {
   "cell_type": "code",
   "execution_count": null,
   "metadata": {},
   "outputs": [],
   "source": [
    "def objective(x):\n",
    "  slacks, _ = split_slack_vars(x)\n",
    "  return slacks.sum()\n",
    "\n",
    "# x >= 0\n",
    "def constraint_1(x):\n",
    "  return x\n",
    "\n",
    "# x = n\n",
    "def constraint_2(x):\n",
    "  _, x = split_slack_vars(x)\n",
    "  x = np.round(x)\n",
    "  return x.sum() - n\n",
    "\n",
    "def constraint_3(x):\n",
    "  _, x = split_slack_vars(x)\n",
    "  x = np.round(x)\n",
    "  return -x.sum() + n\n",
    "\n",
    "def constraint_4(x):\n",
    "  slacks, x = split_slack_vars(x)\n",
    "  slacks = slacks[:-1]\n",
    "  pmaxs = get_pmaxs(x)\n",
    "  apriori_energy_mix = get_apriori_energy_mix(pmaxs, capacity_factor, average_load)\n",
    "  return apriori_energy_mix - target_energy_mix + slacks\n",
    "\n",
    "def constraint_5(x):\n",
    "  slacks, x = split_slack_vars(x)\n",
    "  slacks = slacks[-1]\n",
    "  pmaxs = get_pmaxs(x)\n",
    "  return -pmaxs.sum() + target_pmax + slacks\n",
    "\n",
    "constraints = [\n",
    "  {\"type\": \"ineq\", \"fun\": constraint_1},\n",
    "  {\"type\": \"ineq\", \"fun\": constraint_2},\n",
    "  {\"type\": \"ineq\", \"fun\": constraint_3},\n",
    "  {\"type\": \"ineq\", \"fun\": constraint_4},\n",
    "  {\"type\": \"ineq\", \"fun\": constraint_5}\n",
    "]"
   ]
  },
  {
   "cell_type": "code",
   "execution_count": null,
   "metadata": {},
   "outputs": [],
   "source": [
    "bounds = Bounds(0, np.inf)\n",
    "options = {\"maxiter\": 500_000}\n",
    "res = minimize(objective, x, constraints=constraints, method=\"cobyla\", options=options)\n",
    "res"
   ]
  },
  {
   "cell_type": "code",
   "execution_count": null,
   "metadata": {},
   "outputs": [],
   "source": [
    "x = res.x"
   ]
  },
  {
   "cell_type": "code",
   "execution_count": null,
   "metadata": {},
   "outputs": [],
   "source": [
    "constraint_1(x)"
   ]
  },
  {
   "cell_type": "code",
   "execution_count": null,
   "metadata": {},
   "outputs": [],
   "source": [
    "constraint_2(x)"
   ]
  },
  {
   "cell_type": "code",
   "execution_count": null,
   "metadata": {},
   "outputs": [],
   "source": [
    "constraint_3(x)"
   ]
  },
  {
   "cell_type": "code",
   "execution_count": null,
   "metadata": {},
   "outputs": [],
   "source": [
    "constraint_4(x)"
   ]
  },
  {
   "cell_type": "code",
   "execution_count": null,
   "metadata": {},
   "outputs": [],
   "source": [
    "_, x = split_slack_vars(x)"
   ]
  },
  {
   "cell_type": "code",
   "execution_count": null,
   "metadata": {},
   "outputs": [],
   "source": [
    "def get_nb_power_plants(x):\n",
    "  nb_pp = np.round(x)\n",
    "  power_plants = {\n",
    "      \"hydro\": 0,\n",
    "      \"nuclear\": 0,\n",
    "      \"solar\": 0,\n",
    "      \"thermal\": 0,\n",
    "      \"wind\": 0,\n",
    "      \"total\": int(nb_pp.sum())\n",
    "    }\n",
    "  for i in range(nb_pp.shape[0]):\n",
    "    key = list(power_plants.keys())[int(i)]\n",
    "    power_plants[key] += int(nb_pp[i])\n",
    "  return power_plants"
   ]
  },
  {
   "cell_type": "code",
   "execution_count": null,
   "metadata": {},
   "outputs": [],
   "source": [
    "get_nb_power_plants(x)"
   ]
  },
  {
   "cell_type": "code",
   "execution_count": null,
   "metadata": {},
   "outputs": [],
   "source": [
    "pmaxs = get_pmaxs(x)\n",
    "em = get_apriori_energy_mix(pmaxs, capacity_factor, average_load)\n",
    "error = np.abs(target_energy_mix - em).sum()\n",
    "print(f\"Target energy mix: {target_energy_mix}\")\n",
    "print(f\"Actual energy mix: {em}\")\n",
    "print(f\"Difference between target and actual energy mix: {error:.2f}%\")"
   ]
  },
  {
   "cell_type": "code",
   "execution_count": null,
   "metadata": {},
   "outputs": [],
   "source": [
    "pmaxs"
   ]
  },
  {
   "cell_type": "code",
   "execution_count": null,
   "metadata": {},
   "outputs": [],
   "source": [
    "pmaxs.sum()"
   ]
  },
  {
   "cell_type": "code",
   "execution_count": null,
   "metadata": {},
   "outputs": [],
   "source": []
  }
 ],
 "metadata": {
  "interpreter": {
   "hash": "31f2aee4e71d21fbe5cf8b01ff0e069b9275f58929596ceb00d14d90e3e16cd6"
  },
  "kernelspec": {
   "display_name": "Python 3.8.10 64-bit",
   "language": "python",
   "name": "python3"
  },
  "language_info": {
   "codemirror_mode": {
    "name": "ipython",
    "version": 3
   },
   "file_extension": ".py",
   "mimetype": "text/x-python",
   "name": "python",
   "nbconvert_exporter": "python",
   "pygments_lexer": "ipython3",
   "version": "3.8.10"
  },
  "orig_nbformat": 4
 },
 "nbformat": 4,
 "nbformat_minor": 2
}
